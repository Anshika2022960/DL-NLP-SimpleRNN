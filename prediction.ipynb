{
 "cells": [
  {
   "cell_type": "code",
   "execution_count": 1,
   "metadata": {},
   "outputs": [],
   "source": [
    "import numpy as np\n",
    "import tensorflow as tf\n",
    "from tensorflow.keras.datasets import imdb\n",
    "from tensorflow.keras.preprocessing import sequence\n",
    "from tensorflow.keras.models import load_model\n"
   ]
  },
  {
   "cell_type": "code",
   "execution_count": 2,
   "metadata": {},
   "outputs": [],
   "source": [
    "# Load the IMDB dataset word index\n",
    "word_index = imdb.get_word_index()\n",
    "reverse_word_index = {value:key for key, value in word_index.items()}\n"
   ]
  },
  {
   "cell_type": "code",
   "execution_count": 3,
   "metadata": {},
   "outputs": [
    {
     "name": "stderr",
     "output_type": "stream",
     "text": [
      "WARNING:absl:Compiled the loaded model, but the compiled metrics have yet to be built. `model.compile_metrics` will be empty until you train or evaluate the model.\n"
     ]
    }
   ],
   "source": [
    "model= load_model('simple_rnn_imdb.h5')"
   ]
  },
  {
   "cell_type": "code",
   "execution_count": 5,
   "metadata": {},
   "outputs": [
    {
     "data": {
      "text/html": [
       "<pre style=\"white-space:pre;overflow-x:auto;line-height:normal;font-family:Menlo,'DejaVu Sans Mono',consolas,'Courier New',monospace\"><span style=\"font-weight: bold\">Model: \"sequential_6\"</span>\n",
       "</pre>\n"
      ],
      "text/plain": [
       "\u001b[1mModel: \"sequential_6\"\u001b[0m\n"
      ]
     },
     "metadata": {},
     "output_type": "display_data"
    },
    {
     "data": {
      "text/html": [
       "<pre style=\"white-space:pre;overflow-x:auto;line-height:normal;font-family:Menlo,'DejaVu Sans Mono',consolas,'Courier New',monospace\">┏━━━━━━━━━━━━━━━━━━━━━━━━━━━━━━━━━┳━━━━━━━━━━━━━━━━━━━━━━━━┳━━━━━━━━━━━━━━━┓\n",
       "┃<span style=\"font-weight: bold\"> Layer (type)                    </span>┃<span style=\"font-weight: bold\"> Output Shape           </span>┃<span style=\"font-weight: bold\">       Param # </span>┃\n",
       "┡━━━━━━━━━━━━━━━━━━━━━━━━━━━━━━━━━╇━━━━━━━━━━━━━━━━━━━━━━━━╇━━━━━━━━━━━━━━━┩\n",
       "│ embedding_4 (<span style=\"color: #0087ff; text-decoration-color: #0087ff\">Embedding</span>)         │ (<span style=\"color: #00d7ff; text-decoration-color: #00d7ff\">None</span>, <span style=\"color: #00af00; text-decoration-color: #00af00\">500</span>, <span style=\"color: #00af00; text-decoration-color: #00af00\">128</span>)       │     <span style=\"color: #00af00; text-decoration-color: #00af00\">1,280,000</span> │\n",
       "├─────────────────────────────────┼────────────────────────┼───────────────┤\n",
       "│ simple_rnn_2 (<span style=\"color: #0087ff; text-decoration-color: #0087ff\">SimpleRNN</span>)        │ (<span style=\"color: #00d7ff; text-decoration-color: #00d7ff\">None</span>, <span style=\"color: #00af00; text-decoration-color: #00af00\">128</span>)            │        <span style=\"color: #00af00; text-decoration-color: #00af00\">32,896</span> │\n",
       "├─────────────────────────────────┼────────────────────────┼───────────────┤\n",
       "│ dense_2 (<span style=\"color: #0087ff; text-decoration-color: #0087ff\">Dense</span>)                 │ (<span style=\"color: #00d7ff; text-decoration-color: #00d7ff\">None</span>, <span style=\"color: #00af00; text-decoration-color: #00af00\">1</span>)              │           <span style=\"color: #00af00; text-decoration-color: #00af00\">129</span> │\n",
       "└─────────────────────────────────┴────────────────────────┴───────────────┘\n",
       "</pre>\n"
      ],
      "text/plain": [
       "┏━━━━━━━━━━━━━━━━━━━━━━━━━━━━━━━━━┳━━━━━━━━━━━━━━━━━━━━━━━━┳━━━━━━━━━━━━━━━┓\n",
       "┃\u001b[1m \u001b[0m\u001b[1mLayer (type)                   \u001b[0m\u001b[1m \u001b[0m┃\u001b[1m \u001b[0m\u001b[1mOutput Shape          \u001b[0m\u001b[1m \u001b[0m┃\u001b[1m \u001b[0m\u001b[1m      Param #\u001b[0m\u001b[1m \u001b[0m┃\n",
       "┡━━━━━━━━━━━━━━━━━━━━━━━━━━━━━━━━━╇━━━━━━━━━━━━━━━━━━━━━━━━╇━━━━━━━━━━━━━━━┩\n",
       "│ embedding_4 (\u001b[38;5;33mEmbedding\u001b[0m)         │ (\u001b[38;5;45mNone\u001b[0m, \u001b[38;5;34m500\u001b[0m, \u001b[38;5;34m128\u001b[0m)       │     \u001b[38;5;34m1,280,000\u001b[0m │\n",
       "├─────────────────────────────────┼────────────────────────┼───────────────┤\n",
       "│ simple_rnn_2 (\u001b[38;5;33mSimpleRNN\u001b[0m)        │ (\u001b[38;5;45mNone\u001b[0m, \u001b[38;5;34m128\u001b[0m)            │        \u001b[38;5;34m32,896\u001b[0m │\n",
       "├─────────────────────────────────┼────────────────────────┼───────────────┤\n",
       "│ dense_2 (\u001b[38;5;33mDense\u001b[0m)                 │ (\u001b[38;5;45mNone\u001b[0m, \u001b[38;5;34m1\u001b[0m)              │           \u001b[38;5;34m129\u001b[0m │\n",
       "└─────────────────────────────────┴────────────────────────┴───────────────┘\n"
      ]
     },
     "metadata": {},
     "output_type": "display_data"
    },
    {
     "data": {
      "text/html": [
       "<pre style=\"white-space:pre;overflow-x:auto;line-height:normal;font-family:Menlo,'DejaVu Sans Mono',consolas,'Courier New',monospace\"><span style=\"font-weight: bold\"> Total params: </span><span style=\"color: #00af00; text-decoration-color: #00af00\">1,313,027</span> (5.01 MB)\n",
       "</pre>\n"
      ],
      "text/plain": [
       "\u001b[1m Total params: \u001b[0m\u001b[38;5;34m1,313,027\u001b[0m (5.01 MB)\n"
      ]
     },
     "metadata": {},
     "output_type": "display_data"
    },
    {
     "data": {
      "text/html": [
       "<pre style=\"white-space:pre;overflow-x:auto;line-height:normal;font-family:Menlo,'DejaVu Sans Mono',consolas,'Courier New',monospace\"><span style=\"font-weight: bold\"> Trainable params: </span><span style=\"color: #00af00; text-decoration-color: #00af00\">1,313,025</span> (5.01 MB)\n",
       "</pre>\n"
      ],
      "text/plain": [
       "\u001b[1m Trainable params: \u001b[0m\u001b[38;5;34m1,313,025\u001b[0m (5.01 MB)\n"
      ]
     },
     "metadata": {},
     "output_type": "display_data"
    },
    {
     "data": {
      "text/html": [
       "<pre style=\"white-space:pre;overflow-x:auto;line-height:normal;font-family:Menlo,'DejaVu Sans Mono',consolas,'Courier New',monospace\"><span style=\"font-weight: bold\"> Non-trainable params: </span><span style=\"color: #00af00; text-decoration-color: #00af00\">0</span> (0.00 B)\n",
       "</pre>\n"
      ],
      "text/plain": [
       "\u001b[1m Non-trainable params: \u001b[0m\u001b[38;5;34m0\u001b[0m (0.00 B)\n"
      ]
     },
     "metadata": {},
     "output_type": "display_data"
    },
    {
     "data": {
      "text/html": [
       "<pre style=\"white-space:pre;overflow-x:auto;line-height:normal;font-family:Menlo,'DejaVu Sans Mono',consolas,'Courier New',monospace\"><span style=\"font-weight: bold\"> Optimizer params: </span><span style=\"color: #00af00; text-decoration-color: #00af00\">2</span> (12.00 B)\n",
       "</pre>\n"
      ],
      "text/plain": [
       "\u001b[1m Optimizer params: \u001b[0m\u001b[38;5;34m2\u001b[0m (12.00 B)\n"
      ]
     },
     "metadata": {},
     "output_type": "display_data"
    }
   ],
   "source": [
    "model.summary()"
   ]
  },
  {
   "cell_type": "code",
   "execution_count": 6,
   "metadata": {},
   "outputs": [
    {
     "data": {
      "text/plain": [
       "[array([[-0.4185779 ,  0.37651455, -0.87403697, ..., -0.58854157,\n",
       "          0.7353838 ,  0.6834764 ],\n",
       "        [-0.03881422, -0.00861614, -0.03791411, ..., -0.07369304,\n",
       "          0.03046866, -0.00136497],\n",
       "        [ 0.08967158, -0.03697335, -0.08336747, ..., -0.07065725,\n",
       "         -0.06438796,  0.03494316],\n",
       "        ...,\n",
       "        [ 0.05954808,  0.01603154,  0.05019794, ..., -0.01634566,\n",
       "          0.01284359, -0.13267674],\n",
       "        [ 0.06736973, -0.11189713,  0.04707288, ...,  0.11407381,\n",
       "         -0.09844302, -0.1011054 ],\n",
       "        [-0.19102255,  0.12736699, -0.0427226 , ...,  0.11393238,\n",
       "          0.09268101,  0.02568155]], dtype=float32),\n",
       " array([[-0.08072108,  0.07329323, -0.00603289, ..., -0.02015674,\n",
       "          0.09076326,  0.11229309],\n",
       "        [ 0.07112551,  0.10154817,  0.06501672, ...,  0.11449129,\n",
       "          0.03089038, -0.08527333],\n",
       "        [ 0.12632899, -0.13028045,  0.04881567, ...,  0.07176933,\n",
       "          0.05991637,  0.06962752],\n",
       "        ...,\n",
       "        [ 0.09655803, -0.00098028, -0.02745844, ..., -0.05420258,\n",
       "         -0.06082466, -0.02591942],\n",
       "        [-0.07465499,  0.13388178,  0.00311829, ..., -0.13108762,\n",
       "         -0.00773301, -0.14817162],\n",
       "        [ 0.02222307, -0.14371915,  0.08388823, ...,  0.10189036,\n",
       "          0.1828416 , -0.02321547]], dtype=float32),\n",
       " array([[ 0.06696317, -0.04061869, -0.0741555 , ...,  0.08013044,\n",
       "         -0.00057396, -0.10274877],\n",
       "        [-0.12862042, -0.07961789,  0.02593717, ..., -0.14611904,\n",
       "          0.03474507, -0.13779837],\n",
       "        [ 0.11977607, -0.13255382, -0.04486046, ..., -0.13150544,\n",
       "          0.05506754, -0.1624451 ],\n",
       "        ...,\n",
       "        [-0.06572705,  0.01234531, -0.041704  , ...,  0.04813533,\n",
       "          0.30455604,  0.04111608],\n",
       "        [-0.12045431,  0.13647646,  0.16356443, ..., -0.21379316,\n",
       "          0.31423727, -0.1634121 ],\n",
       "        [ 0.07715215, -0.02404195, -0.09552763, ...,  0.02436109,\n",
       "         -0.01207729,  0.1457983 ]], dtype=float32),\n",
       " array([-0.06348182, -0.03705674, -0.02969196,  0.04586164, -0.04271421,\n",
       "        -0.04529499, -0.05196231, -0.00221294, -0.05406982, -0.01393976,\n",
       "        -0.0294937 ,  0.01485336, -0.00367862, -0.0512748 , -0.06154658,\n",
       "        -0.08666603, -0.06185541,  0.00757155, -0.06674721,  0.03219906,\n",
       "        -0.04146751,  0.0427422 , -0.05013631, -0.01725196, -0.06112754,\n",
       "        -0.01901175, -0.05910958, -0.01130978, -0.06730082, -0.06617589,\n",
       "        -0.05405973,  0.00215597,  0.00054722,  0.0475538 , -0.04579588,\n",
       "         0.00493783,  0.01081588,  0.00026712, -0.00324518,  0.0348741 ,\n",
       "        -0.02065645, -0.05939179, -0.03777625,  0.01718789,  0.0426619 ,\n",
       "         0.01867839, -0.04881947, -0.05095714, -0.0767689 , -0.01511834,\n",
       "        -0.05013278, -0.05188115, -0.00687795, -0.03371356,  0.02092423,\n",
       "        -0.0396298 , -0.05100732, -0.04265592, -0.0548511 , -0.00145682,\n",
       "        -0.02508151, -0.05558429, -0.05591205, -0.05405463, -0.02485791,\n",
       "         0.02128021, -0.05453856,  0.00749381, -0.02951014, -0.06641726,\n",
       "        -0.03707587, -0.00797287,  0.003978  , -0.05170402, -0.05364317,\n",
       "        -0.06397536, -0.00637214, -0.05313088, -0.01870279, -0.06175086,\n",
       "        -0.00698826, -0.01158527, -0.03255817,  0.00674443, -0.03607099,\n",
       "        -0.04846195,  0.02067054,  0.01213478, -0.05814564, -0.04834594,\n",
       "        -0.07014344, -0.06081192,  0.01125131,  0.01122506, -0.00753526,\n",
       "        -0.04394465,  0.00020216, -0.05315356, -0.02197645,  0.07133085,\n",
       "         0.00447737, -0.02171363, -0.08571567, -0.03082855, -0.04304   ,\n",
       "        -0.05911643, -0.06153788, -0.025988  , -0.06365474, -0.05513646,\n",
       "         0.00217901,  0.01472716,  0.03122108, -0.00698422, -0.01783226,\n",
       "        -0.01464555,  0.02914786, -0.00389339, -0.05460373, -0.01267115,\n",
       "        -0.05139723, -0.00712507, -0.00366543, -0.00024359, -0.00052963,\n",
       "        -0.02207596, -0.04351412,  0.00162152], dtype=float32),\n",
       " array([[ 0.03029729],\n",
       "        [ 0.13787861],\n",
       "        [ 0.02599216],\n",
       "        [-0.1363565 ],\n",
       "        [ 0.03803635],\n",
       "        [ 0.13992727],\n",
       "        [-0.08604235],\n",
       "        [ 0.16156842],\n",
       "        [ 0.00950877],\n",
       "        [-0.17988902],\n",
       "        [ 0.31262434],\n",
       "        [ 0.16459495],\n",
       "        [ 0.01297858],\n",
       "        [ 1.7784023 ],\n",
       "        [-0.18917307],\n",
       "        [ 0.16322681],\n",
       "        [ 0.11299101],\n",
       "        [ 0.15546413],\n",
       "        [ 0.67464876],\n",
       "        [ 0.04397513],\n",
       "        [ 0.02847288],\n",
       "        [ 0.10010107],\n",
       "        [ 0.00256713],\n",
       "        [ 0.15123098],\n",
       "        [ 0.13594873],\n",
       "        [-0.16877513],\n",
       "        [-0.15269485],\n",
       "        [-0.10963967],\n",
       "        [-0.02147178],\n",
       "        [ 0.09819233],\n",
       "        [ 0.12951641],\n",
       "        [-0.21071525],\n",
       "        [-0.0284605 ],\n",
       "        [-0.0785783 ],\n",
       "        [ 0.25939918],\n",
       "        [ 0.1856908 ],\n",
       "        [-0.07143635],\n",
       "        [ 0.10534079],\n",
       "        [-0.19513102],\n",
       "        [ 0.10614509],\n",
       "        [-0.91039205],\n",
       "        [-0.02894652],\n",
       "        [-0.04031886],\n",
       "        [ 0.1772712 ],\n",
       "        [-0.39443862],\n",
       "        [-0.17291386],\n",
       "        [-0.02074039],\n",
       "        [ 0.01688357],\n",
       "        [-0.21934564],\n",
       "        [-0.17894089],\n",
       "        [ 0.15574616],\n",
       "        [ 0.03868004],\n",
       "        [ 0.18642442],\n",
       "        [-0.00418315],\n",
       "        [-0.77260816],\n",
       "        [ 0.1403943 ],\n",
       "        [ 0.10429892],\n",
       "        [ 0.00442163],\n",
       "        [ 0.3652627 ],\n",
       "        [ 0.1430554 ],\n",
       "        [-0.13677247],\n",
       "        [-0.1141901 ],\n",
       "        [-0.09276151],\n",
       "        [-0.05579399],\n",
       "        [ 0.22004713],\n",
       "        [-0.0812526 ],\n",
       "        [ 0.07281146],\n",
       "        [ 0.03094057],\n",
       "        [ 0.03020977],\n",
       "        [ 0.00976586],\n",
       "        [ 0.45880678],\n",
       "        [ 0.03332298],\n",
       "        [-0.02729833],\n",
       "        [-0.0132756 ],\n",
       "        [ 0.22573231],\n",
       "        [ 0.0629777 ],\n",
       "        [-0.07729927],\n",
       "        [ 0.1980836 ],\n",
       "        [-0.29718497],\n",
       "        [ 0.11405785],\n",
       "        [-0.15008709],\n",
       "        [-0.01689236],\n",
       "        [ 0.13606049],\n",
       "        [ 0.50842035],\n",
       "        [ 0.166829  ],\n",
       "        [ 0.09461779],\n",
       "        [ 0.26765662],\n",
       "        [-0.16653723],\n",
       "        [-0.0626327 ],\n",
       "        [-0.02782182],\n",
       "        [ 0.09399161],\n",
       "        [-0.6187901 ],\n",
       "        [-0.15158889],\n",
       "        [-0.1536996 ],\n",
       "        [ 0.16678123],\n",
       "        [-0.19296439],\n",
       "        [-0.08098737],\n",
       "        [ 0.03823334],\n",
       "        [ 0.03320185],\n",
       "        [ 0.13083352],\n",
       "        [ 0.10370801],\n",
       "        [ 0.63197005],\n",
       "        [ 0.01401841],\n",
       "        [-0.0268125 ],\n",
       "        [ 0.1839582 ],\n",
       "        [ 0.10488902],\n",
       "        [ 0.08208539],\n",
       "        [-0.32085598],\n",
       "        [ 0.2482042 ],\n",
       "        [-0.10999005],\n",
       "        [-0.16320883],\n",
       "        [-0.00648664],\n",
       "        [ 0.1452343 ],\n",
       "        [-0.2182892 ],\n",
       "        [ 0.3314379 ],\n",
       "        [ 0.08490905],\n",
       "        [ 0.16060778],\n",
       "        [-0.25748086],\n",
       "        [-0.03238127],\n",
       "        [-0.1050106 ],\n",
       "        [ 0.15507881],\n",
       "        [-0.19406569],\n",
       "        [ 0.19483219],\n",
       "        [-0.19611904],\n",
       "        [-0.20239918],\n",
       "        [-0.16575576],\n",
       "        [-0.3822147 ],\n",
       "        [-0.16541523]], dtype=float32),\n",
       " array([0.8420316], dtype=float32)]"
      ]
     },
     "execution_count": 6,
     "metadata": {},
     "output_type": "execute_result"
    }
   ],
   "source": [
    "model.get_weights()"
   ]
  },
  {
   "cell_type": "code",
   "execution_count": null,
   "metadata": {},
   "outputs": [],
   "source": []
  },
  {
   "cell_type": "code",
   "execution_count": null,
   "metadata": {},
   "outputs": [],
   "source": []
  },
  {
   "cell_type": "code",
   "execution_count": null,
   "metadata": {},
   "outputs": [],
   "source": []
  },
  {
   "cell_type": "code",
   "execution_count": null,
   "metadata": {},
   "outputs": [],
   "source": []
  }
 ],
 "metadata": {
  "kernelspec": {
   "display_name": "Python 3",
   "language": "python",
   "name": "python3"
  },
  "language_info": {
   "codemirror_mode": {
    "name": "ipython",
    "version": 3
   },
   "file_extension": ".py",
   "mimetype": "text/x-python",
   "name": "python",
   "nbconvert_exporter": "python",
   "pygments_lexer": "ipython3",
   "version": "3.11.0"
  }
 },
 "nbformat": 4,
 "nbformat_minor": 2
}
